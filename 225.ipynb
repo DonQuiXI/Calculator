{
  "nbformat": 4,
  "nbformat_minor": 0,
  "metadata": {
    "kernelspec": {
      "display_name": "Python 3",
      "language": "python",
      "name": "python3"
    },
    "language_info": {
      "codemirror_mode": {
        "name": "ipython",
        "version": 3
      },
      "file_extension": ".py",
      "mimetype": "text/x-python",
      "name": "python",
      "nbconvert_exporter": "python",
      "pygments_lexer": "ipython3",
      "version": "3.7.6"
    },
    "colab": {
      "name": "225.ipynb",
      "provenance": []
    }
  },
  "cells": [
    {
      "cell_type": "markdown",
      "metadata": {
        "id": "VhcNdhPWMCvc"
      },
      "source": [
        "# Module 2: Data Engineering\n",
        "## Sprint 2: SQL and Data Scraping\n",
        "## Storing Scraped Information"
      ]
    },
    {
      "cell_type": "markdown",
      "metadata": {
        "id": "Pwcy7eU_MCvh"
      },
      "source": [
        "## Background \n",
        "You did an outstanding job this sprint. Now you know SQL databases, how to make basic data operations. You are familiar with the pros and cons of SQL and should know when to choose a NoSQL database. Data scraping is a technique that you can use to create your own dataset. You are also familiar with the basic concepts of Spark. You should be proud of yourself! For the last lesson of this week, you should put all your learnings into one place to collect, process, and store data. Combining these two might require a bit of planning at first but this is what you will need to do now."
      ]
    },
    {
      "cell_type": "markdown",
      "metadata": {
        "id": "2aB8GY0ZMCvj"
      },
      "source": [
        "---"
      ]
    },
    {
      "cell_type": "markdown",
      "metadata": {
        "id": "_6QbUWLIMCvj"
      },
      "source": [
        "## Creating the PostgreSQL database\n",
        "First, you will need to create a database that you will need to use to store the data you will collect. Follow the steps provided in the second lesson of this sprint. Do not forget to remove all secrets and passwords when committing code to the repository. "
      ]
    },
    {
      "cell_type": "markdown",
      "metadata": {
        "id": "5Fs8GV3qMCvk"
      },
      "source": [
        "## Scraping the data\n",
        "This lesson, you will need to scrape and store data collected from an online store. You can choose any website that you like (Vinted, Amazon, eBay, etc.). You will need to select three keywords (for example `dress`, `bike`, `bracelet`) and scrape listings from the selected website. You will need to collect at least 3000 samples for each category and store this information of the listing: `category`, `title`, `price`, `url to item`, `url of image`. "
      ]
    },
    {
      "cell_type": "markdown",
      "metadata": {
        "id": "g7brXFVcMCvl"
      },
      "source": [
        "## Structure of the database\n",
        "As you will be storing data into the relational database, you will need to create tables. There should be two tables with many to one type of relationship."
      ]
    },
    {
      "cell_type": "markdown",
      "metadata": {
        "id": "Ca2CuQ3JMCvl"
      },
      "source": [
        "---"
      ]
    },
    {
      "cell_type": "markdown",
      "metadata": {
        "id": "z60qOHt8MCvm"
      },
      "source": [
        "## Concepts to explore\n",
        "* Creating relational type database\n",
        "* Creating PostgreSQL database in Heroku\n",
        "* Writing SQL queries\n",
        "* Scraping webpages using Beautiful Soup\n",
        "* Storing and acquiring data using SQL"
      ]
    },
    {
      "cell_type": "markdown",
      "metadata": {
        "id": "UPZQ_NsSMCvn"
      },
      "source": [
        "## Requirements\n",
        "You should create two files: one that contains functions related to data scraping and another that is created to enable communication to PostgreSQL database created with Heroku. The actual requirements are these:\n",
        "- Database should be created using Heroku.\n",
        "- Required tables should be created. Python code should be provided inside `.py` file.\n",
        "- Scraping functions should be created. The main scraping function should take two arguments: `number of examples to scrape` and `keyword to search`. The main scraping function should return a Pandas `DataFrame` with the records.\n",
        "- Scrape the website. Get minimum 3000 samples of each category (keyword)\n",
        "- Data should be inserted into tables of database hosted by Heroku. Provide screenshots proofing that data sits inside the database.\n",
        "- Join two tables into one using SQL query and export it to `csv` file. Provide a function that makes this action.\n"
      ]
    },
    {
      "cell_type": "markdown",
      "metadata": {
        "id": "bdWHVEidMCvp"
      },
      "source": [
        "## Evaluation criteria\n",
        "1. The requirements are met (database and tables in it are created, data is scraped and stored)\n",
        "2. Data scraping functions are written.\n",
        "3. Code meets expected standards (type hints, PEP8 standards)\n",
        "4. Documentation is provided (comments are written where needed, README.md file is created)"
      ]
    },
    {
      "cell_type": "markdown",
      "metadata": {
        "id": "SEoOLzfWMCvp"
      },
      "source": [
        "\n",
        "## Sample correction questions\n",
        "\n",
        "During a correction, you may get asked questions that test your understanding of covered topics.\n",
        "\n",
        "- Why do we store information inside external databases? Tell two advantages and disadvantages when comparing local and external storage.\n",
        "- What is the difference between SQL and NoSQL databases? Tell two examples: one where you would want to use PostgreSQL database and another where you would choose Cassandra.\n",
        "- How to properly set up a data scraping strategy? What are the key steps that you must make to successfully create a dataset using web scraping technique?\n",
        "- Why do we need Spark? Tell about one use case where Spark would improve scalability and speed of queries when comparing to traditional relational type database's engine."
      ]
    },
    {
      "cell_type": "code",
      "metadata": {
        "id": "2_LJGCuhsq6j"
      },
      "source": [
        ""
      ],
      "execution_count": null,
      "outputs": []
    },
    {
      "cell_type": "markdown",
      "metadata": {
        "id": "QqIY0f0OtygG"
      },
      "source": [
        "#Project"
      ]
    },
    {
      "cell_type": "markdown",
      "metadata": {
        "id": "5uGEJWsAspi2"
      },
      "source": [
        "##My project is found in my github repository\n",
        "https://github.com/TobAde/Scape_to_database.git"
      ]
    }
  ]
}